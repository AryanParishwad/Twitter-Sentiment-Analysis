{
 "cells": [
  {
   "cell_type": "markdown",
   "id": "f6e9ef6b-69a6-4e17-b8a3-7b9a046f9663",
   "metadata": {},
   "source": [
    "To increase the accuracy of knn by using stemming"
   ]
  },
  {
   "cell_type": "code",
   "execution_count": 29,
   "id": "1a891ee8-ce40-400e-868b-2e73e7bd9168",
   "metadata": {},
   "outputs": [],
   "source": [
    "import pandas as pd\n",
    "from sklearn.feature_extraction.text import TfidfVectorizer\n",
    "from sklearn.model_selection import train_test_split\n",
    "from sklearn.neighbors import KNeighborsClassifier\n",
    "from sklearn.metrics import accuracy_score\n",
    "from nltk.corpus import stopwords\n",
    "from nltk.tokenize import word_tokenize\n",
    "from nltk.stem import PorterStemmer\n",
    "import string\n",
    "import nltk\n",
    "import numpy as np\n",
    "from nltk.stem import WordNetLemmatizer\n"
   ]
  },
  {
   "cell_type": "code",
   "execution_count": 30,
   "id": "40f2310a-451c-494f-b1ca-fce19c7934c3",
   "metadata": {},
   "outputs": [],
   "source": [
    "class KNN:\n",
    "    def __init__(self, k=5):\n",
    "        self.k = k\n",
    "    \n",
    "    def fit(self, X_train, y_train):\n",
    "        self.X_train = X_train\n",
    "        self.y_train = y_train\n",
    "    \n",
    "    def euclidean_distance(self, x1, x2):\n",
    "        return np.sqrt(np.sum((x1 - x2)**2))\n",
    "    \n",
    "    def predict(self, X_test):\n",
    "        predictions = []\n",
    "        for x in X_test:\n",
    "            # Compute distances between x and all examples in the training set\n",
    "            distances = [self.euclidean_distance(x, x_train) for x_train in self.X_train]\n",
    "            # Sort by distance and return indices of the first k neighbors\n",
    "            k_indices = np.argsort(distances)[:self.k]\n",
    "            # Extract the labels of the k nearest neighbor training samples\n",
    "            k_nearest_labels = [self.y_train[i] for i in k_indices]\n",
    "            # Return the most common class label\n",
    "            most_common = max(set(k_nearest_labels), key=k_nearest_labels.count)\n",
    "            predictions.append(most_common)\n",
    "        return predictions"
   ]
  },
  {
   "cell_type": "code",
   "execution_count": 31,
   "id": "5618b010-dd06-4ce8-9ea0-04ed811959e3",
   "metadata": {},
   "outputs": [],
   "source": [
    "from collections import Counter\n",
    "\n",
    "class WeightedKNN:\n",
    "    def __init__(self, k=5):\n",
    "        self.k = k\n",
    "    \n",
    "    def fit(self, X_train, y_train):\n",
    "        self.X_train = X_train\n",
    "        self.y_train = y_train\n",
    "    \n",
    "    def inverse_square_weight(self, distance):\n",
    "        epsilon = 1e-6  # Small constant to avoid division by zero\n",
    "        return 1 / (distance**2 + epsilon)\n",
    "    \n",
    "    def euclidean_distance(self, x1, x2):\n",
    "        return np.sqrt(np.sum((x1 - x2)**2))\n",
    "    \n",
    "    def predict(self, X_test):\n",
    "        predictions = []\n",
    "        for x in X_test:\n",
    "            # Compute distances between x and all examples in the training set\n",
    "            distances = [self.euclidean_distance(x, x_train) for x_train in self.X_train]\n",
    "            # Sort by distance and return indices of the first k neighbors\n",
    "            k_indices = np.argsort(distances)[:self.k]\n",
    "            # Extract the labels and distances of the k nearest neighbor training samples\n",
    "            k_nearest_labels = [self.y_train[i] for i in k_indices]\n",
    "            k_nearest_distances = [distances[i] for i in k_indices]\n",
    "            # Calculate weights based on distance using the inverse square weight function\n",
    "            weights = [self.inverse_square_weight(d) for d in k_nearest_distances]\n",
    "            # Weighted majority vote\n",
    "            weighted_votes = Counter(dict(zip(k_nearest_labels, weights)))\n",
    "            predicted_label = weighted_votes.most_common(1)[0][0]\n",
    "            predictions.append(predicted_label)\n",
    "        return predictions"
   ]
  },
  {
   "cell_type": "code",
   "execution_count": 32,
   "id": "92568fe1-483a-4a8e-9f8d-b5bb47a22b32",
   "metadata": {},
   "outputs": [],
   "source": [
    "import numpy as np\n",
    "from collections import Counter\n",
    "\n",
    "class LM_KNN:\n",
    "    def __init__(self, k=5):\n",
    "        self.k = k\n",
    "    \n",
    "    def fit(self, X_train, y_train):\n",
    "        self.X_train = X_train\n",
    "        self.y_train = y_train\n",
    "    \n",
    "    def euclidean_distance(self, x1, x2):\n",
    "        return np.sqrt(np.sum((x1 - x2)**2))\n",
    "    \n",
    "    def compute_local_mean_vectors(self):\n",
    "        # Initialize local mean vectors dictionary\n",
    "        self.local_mean_vectors = {}\n",
    "        \n",
    "        # Iterate over unique classes\n",
    "        unique_classes = np.unique(self.y_train)\n",
    "        for cls in unique_classes:\n",
    "            # Find indices of samples belonging to this class\n",
    "            cls_indices = np.where(self.y_train == cls)[0]\n",
    "            # Compute mean vector of k nearest neighbors for each sample in this class\n",
    "            mean_vectors = []\n",
    "            for i in cls_indices:\n",
    "                distances = [self.euclidean_distance(self.X_train[i], x) for x in self.X_train]\n",
    "                k_nearest_indices = np.argsort(distances)[1:self.k+1]  # Exclude self, k+1 to skip self\n",
    "                k_nearest_vectors = self.X_train[k_nearest_indices]\n",
    "                mean_vector = np.mean(k_nearest_vectors, axis=0)\n",
    "                mean_vectors.append(mean_vector)\n",
    "            # Compute local mean vector for this class\n",
    "            local_mean_vector = np.mean(mean_vectors, axis=0)\n",
    "            self.local_mean_vectors[cls] = local_mean_vector\n",
    "    \n",
    "    def predict(self, X_test):\n",
    "        if not hasattr(self, 'local_mean_vectors'):\n",
    "            self.compute_local_mean_vectors()\n",
    "        \n",
    "        predictions = []\n",
    "        for x in X_test:\n",
    "            min_distance = float('inf')\n",
    "            predicted_cls = None\n",
    "            for cls, mean_vector in self.local_mean_vectors.items():\n",
    "                distance = self.euclidean_distance(x, mean_vector)\n",
    "                if distance < min_distance:\n",
    "                    min_distance = distance\n",
    "                    predicted_cls = cls\n",
    "            predictions.append(predicted_cls)\n",
    "        return predictions\n"
   ]
  },
  {
   "cell_type": "code",
   "execution_count": 33,
   "id": "1a5b973e-9481-47fa-aea0-431021594b55",
   "metadata": {},
   "outputs": [],
   "source": [
    "import numpy as np\n",
    "from sklearn.neighbors import BallTree\n",
    "\n",
    "class BallTreeKNN:\n",
    "    def __init__(self, k=5):\n",
    "        self.k = k\n",
    "        self.X_train = None\n",
    "        self.y_train = None\n",
    "        self.tree = None\n",
    "\n",
    "    def fit(self, X_train, y_train):\n",
    "        self.X_train = X_train\n",
    "        self.y_train = y_train\n",
    "        self.tree = BallTree(X_train)  # Initialize BallTree with training data\n",
    "\n",
    "    def predict(self, X_test):\n",
    "        num_test = X_test.shape[0]\n",
    "        y_pred = np.zeros(num_test)\n",
    "\n",
    "        # Find k-nearest neighbors and make predictions for each test point\n",
    "        for i in range(num_test):\n",
    "            test_point = X_test[i]\n",
    "            _, indices = self.tree.query(test_point.reshape(1, -1), k=self.k)\n",
    "            nearest_labels = self.y_train[indices.flatten()]\n",
    "            y_pred[i] = self.majority_vote(nearest_labels)\n",
    "\n",
    "        return y_pred\n",
    "\n",
    "    def majority_vote(self, labels):\n",
    "        unique_labels, counts = np.unique(labels, return_counts=True)\n",
    "        max_count_label = unique_labels[np.argmax(counts)]\n",
    "        return max_count_label"
   ]
  },
  {
   "cell_type": "code",
   "execution_count": 61,
   "id": "5908620d-d9fa-4040-84b5-2983c8cc1e3d",
   "metadata": {},
   "outputs": [],
   "source": [
    "class DistanceWeightedKNN:\n",
    "    def __init__(self, k=5):\n",
    "        self.k = k\n",
    "\n",
    "    def fit(self, X_train, y_train):\n",
    "        self.X_train = X_train\n",
    "        self.y_train = y_train\n",
    "\n",
    "    def inverse_distance_weight(self, distance):\n",
    "        epsilon = 1e-6  # Small constant to avoid division by zero\n",
    "        return 1 / (distance + epsilon)\n",
    "\n",
    "    def euclidean_distance(self, x1, x2):\n",
    "        return np.sqrt(np.sum((x1 - x2)**2))\n",
    "\n",
    "    def predict(self, X_test):\n",
    "        predictions = []\n",
    "        for x in X_test:\n",
    "            # Compute distances between x and all examples in the training set\n",
    "            distances = [self.euclidean_distance(x, x_train) for x_train in self.X_train]\n",
    "            # Sort by distance and return indices of the first k neighbors\n",
    "            k_indices = np.argsort(distances)[:self.k]\n",
    "            # Extract the labels and distances of the k nearest neighbor training samples\n",
    "            k_nearest_labels = [self.y_train[i] for i in k_indices]\n",
    "            k_nearest_distances = [distances[i] for i in k_indices]\n",
    "            # Calculate weights based on distance using the inverse distance weight function\n",
    "            weights = [self.inverse_distance_weight(d) for d in k_nearest_distances]\n",
    "            # Weighted majority vote\n",
    "            weighted_votes = Counter(dict(zip(k_nearest_labels, weights)))\n",
    "            predicted_label = weighted_votes.most_common(1)[0][0]\n",
    "            predictions.append(predicted_label)\n",
    "        return predictions\n"
   ]
  },
  {
   "cell_type": "code",
   "execution_count": 35,
   "id": "c6517926-33ef-4e45-a95d-525cd7436288",
   "metadata": {},
   "outputs": [
    {
     "name": "stderr",
     "output_type": "stream",
     "text": [
      "[nltk_data] Downloading package punkt to\n",
      "[nltk_data]     C:\\Users\\SAHIL\\AppData\\Roaming\\nltk_data...\n",
      "[nltk_data]   Package punkt is already up-to-date!\n",
      "[nltk_data] Downloading package stopwords to\n",
      "[nltk_data]     C:\\Users\\SAHIL\\AppData\\Roaming\\nltk_data...\n",
      "[nltk_data]   Package stopwords is already up-to-date!\n"
     ]
    },
    {
     "data": {
      "text/plain": [
       "True"
      ]
     },
     "execution_count": 35,
     "metadata": {},
     "output_type": "execute_result"
    }
   ],
   "source": [
    "nltk.download('punkt')\n",
    "nltk.download('stopwords')"
   ]
  },
  {
   "cell_type": "code",
   "execution_count": 36,
   "id": "0377d4aa-7147-4196-99b3-2c214fa580b0",
   "metadata": {},
   "outputs": [],
   "source": [
    "df = pd.read_csv('Tweets.csv')"
   ]
  },
  {
   "cell_type": "code",
   "execution_count": 37,
   "id": "9ea5eefa-06bd-46ed-800e-7a0221b3e088",
   "metadata": {},
   "outputs": [
    {
     "data": {
      "text/html": [
       "<div>\n",
       "<style scoped>\n",
       "    .dataframe tbody tr th:only-of-type {\n",
       "        vertical-align: middle;\n",
       "    }\n",
       "\n",
       "    .dataframe tbody tr th {\n",
       "        vertical-align: top;\n",
       "    }\n",
       "\n",
       "    .dataframe thead th {\n",
       "        text-align: right;\n",
       "    }\n",
       "</style>\n",
       "<table border=\"1\" class=\"dataframe\">\n",
       "  <thead>\n",
       "    <tr style=\"text-align: right;\">\n",
       "      <th></th>\n",
       "      <th>text</th>\n",
       "      <th>clean_text</th>\n",
       "      <th>category</th>\n",
       "    </tr>\n",
       "  </thead>\n",
       "  <tbody>\n",
       "    <tr>\n",
       "      <th>0</th>\n",
       "      <td>I`d have responded, if I were going</td>\n",
       "      <td>I`d have responded, if I were going</td>\n",
       "      <td>neutral</td>\n",
       "    </tr>\n",
       "    <tr>\n",
       "      <th>1</th>\n",
       "      <td>Sooo SAD I will miss you here in San Diego!!!</td>\n",
       "      <td>Sooo SAD</td>\n",
       "      <td>negative</td>\n",
       "    </tr>\n",
       "    <tr>\n",
       "      <th>2</th>\n",
       "      <td>my boss is bullying me...</td>\n",
       "      <td>bullying me</td>\n",
       "      <td>negative</td>\n",
       "    </tr>\n",
       "    <tr>\n",
       "      <th>3</th>\n",
       "      <td>what interview! leave me alone</td>\n",
       "      <td>leave me alone</td>\n",
       "      <td>negative</td>\n",
       "    </tr>\n",
       "    <tr>\n",
       "      <th>4</th>\n",
       "      <td>Sons of ****, why couldn`t they put them on t...</td>\n",
       "      <td>Sons of ****,</td>\n",
       "      <td>negative</td>\n",
       "    </tr>\n",
       "  </tbody>\n",
       "</table>\n",
       "</div>"
      ],
      "text/plain": [
       "                                                text  \\\n",
       "0                I`d have responded, if I were going   \n",
       "1      Sooo SAD I will miss you here in San Diego!!!   \n",
       "2                          my boss is bullying me...   \n",
       "3                     what interview! leave me alone   \n",
       "4   Sons of ****, why couldn`t they put them on t...   \n",
       "\n",
       "                            clean_text  category  \n",
       "0  I`d have responded, if I were going   neutral  \n",
       "1                             Sooo SAD  negative  \n",
       "2                          bullying me  negative  \n",
       "3                       leave me alone  negative  \n",
       "4                        Sons of ****,  negative  "
      ]
     },
     "execution_count": 37,
     "metadata": {},
     "output_type": "execute_result"
    }
   ],
   "source": [
    "df.head()"
   ]
  },
  {
   "cell_type": "code",
   "execution_count": 38,
   "id": "e7dfa06a-f183-4949-b5b7-1477990019ab",
   "metadata": {},
   "outputs": [],
   "source": [
    "label_map = {\"negative\": -1, \"positive\": 1, \"neutral\": 0}"
   ]
  },
  {
   "cell_type": "code",
   "execution_count": 39,
   "id": "b0a93b72-c933-40e0-9283-588ef9cf158c",
   "metadata": {},
   "outputs": [
    {
     "data": {
      "text/html": [
       "<div>\n",
       "<style scoped>\n",
       "    .dataframe tbody tr th:only-of-type {\n",
       "        vertical-align: middle;\n",
       "    }\n",
       "\n",
       "    .dataframe tbody tr th {\n",
       "        vertical-align: top;\n",
       "    }\n",
       "\n",
       "    .dataframe thead th {\n",
       "        text-align: right;\n",
       "    }\n",
       "</style>\n",
       "<table border=\"1\" class=\"dataframe\">\n",
       "  <thead>\n",
       "    <tr style=\"text-align: right;\">\n",
       "      <th></th>\n",
       "      <th>text</th>\n",
       "      <th>clean_text</th>\n",
       "      <th>category</th>\n",
       "      <th>category_numerical</th>\n",
       "    </tr>\n",
       "  </thead>\n",
       "  <tbody>\n",
       "    <tr>\n",
       "      <th>0</th>\n",
       "      <td>I`d have responded, if I were going</td>\n",
       "      <td>I`d have responded, if I were going</td>\n",
       "      <td>neutral</td>\n",
       "      <td>0</td>\n",
       "    </tr>\n",
       "    <tr>\n",
       "      <th>1</th>\n",
       "      <td>Sooo SAD I will miss you here in San Diego!!!</td>\n",
       "      <td>Sooo SAD</td>\n",
       "      <td>negative</td>\n",
       "      <td>-1</td>\n",
       "    </tr>\n",
       "    <tr>\n",
       "      <th>2</th>\n",
       "      <td>my boss is bullying me...</td>\n",
       "      <td>bullying me</td>\n",
       "      <td>negative</td>\n",
       "      <td>-1</td>\n",
       "    </tr>\n",
       "    <tr>\n",
       "      <th>3</th>\n",
       "      <td>what interview! leave me alone</td>\n",
       "      <td>leave me alone</td>\n",
       "      <td>negative</td>\n",
       "      <td>-1</td>\n",
       "    </tr>\n",
       "    <tr>\n",
       "      <th>4</th>\n",
       "      <td>Sons of ****, why couldn`t they put them on t...</td>\n",
       "      <td>Sons of ****,</td>\n",
       "      <td>negative</td>\n",
       "      <td>-1</td>\n",
       "    </tr>\n",
       "  </tbody>\n",
       "</table>\n",
       "</div>"
      ],
      "text/plain": [
       "                                                text  \\\n",
       "0                I`d have responded, if I were going   \n",
       "1      Sooo SAD I will miss you here in San Diego!!!   \n",
       "2                          my boss is bullying me...   \n",
       "3                     what interview! leave me alone   \n",
       "4   Sons of ****, why couldn`t they put them on t...   \n",
       "\n",
       "                            clean_text  category  category_numerical  \n",
       "0  I`d have responded, if I were going   neutral                   0  \n",
       "1                             Sooo SAD  negative                  -1  \n",
       "2                          bullying me  negative                  -1  \n",
       "3                       leave me alone  negative                  -1  \n",
       "4                        Sons of ****,  negative                  -1  "
      ]
     },
     "execution_count": 39,
     "metadata": {},
     "output_type": "execute_result"
    }
   ],
   "source": [
    "df['category_numerical'] = df['category'].map(label_map)\n",
    "\n",
    "df.head()"
   ]
  },
  {
   "cell_type": "code",
   "execution_count": 40,
   "id": "89db8465-04f0-4772-a88c-c8bce3de97a3",
   "metadata": {},
   "outputs": [
    {
     "name": "stderr",
     "output_type": "stream",
     "text": [
      "[nltk_data] Downloading package wordnet to\n",
      "[nltk_data]     C:\\Users\\SAHIL\\AppData\\Roaming\\nltk_data...\n",
      "[nltk_data]   Package wordnet is already up-to-date!\n"
     ]
    },
    {
     "data": {
      "text/plain": [
       "True"
      ]
     },
     "execution_count": 40,
     "metadata": {},
     "output_type": "execute_result"
    }
   ],
   "source": [
    "stop_words = set(stopwords.words('english'))\n",
    "stemmer = PorterStemmer()\n",
    "nltk.download('wordnet')"
   ]
  },
  {
   "cell_type": "code",
   "execution_count": 41,
   "id": "a172a92d-5dad-4588-9e44-e3d5a1df8696",
   "metadata": {},
   "outputs": [],
   "source": [
    "def preprocess_text(text):\n",
    "    # Tokenization\n",
    "    tokens = word_tokenize(text)\n",
    "    \n",
    "    # Lowercasing\n",
    "    tokens = [word.lower() for word in tokens]\n",
    "    \n",
    "    # Removing Punctuation\n",
    "    tokens = [word for word in tokens if word not in string.punctuation]\n",
    "    \n",
    "    # Removing Stopwords\n",
    "    tokens = [word for word in tokens if word not in stop_words]\n",
    "    \n",
    "    # Stemming\n",
    "    tokens = [stemmer.stem(word) for word in tokens]\n",
    "    \n",
    "    # Join tokens back into a single string\n",
    "    preprocessed_text = ' '.join(tokens)\n",
    "    \n",
    "    return preprocessed_text\n"
   ]
  },
  {
   "cell_type": "code",
   "execution_count": 42,
   "id": "822dbed1-88ee-4c5f-9193-070f1ca6be4a",
   "metadata": {},
   "outputs": [],
   "source": [
    "def preprocess_text1(text):\n",
    "    lemmatizer = WordNetLemmatizer()\n",
    "    stop_words = set(stopwords.words('english'))\n",
    "    tokens = word_tokenize(text)\n",
    "    # Lemmatize each word and remove stop words\n",
    "    lemmatized_tokens = [lemmatizer.lemmatize(word) for word in tokens if word.lower() not in stop_words]\n",
    "    return ' '.join(lemmatized_tokens)"
   ]
  },
  {
   "cell_type": "code",
   "execution_count": 43,
   "id": "8ef5e714-8c34-4c6f-940f-45dd3f7a8c28",
   "metadata": {},
   "outputs": [],
   "source": [
    "df_shortened = df.head(4000)"
   ]
  },
  {
   "cell_type": "code",
   "execution_count": 44,
   "id": "5edf5deb-c850-488c-96e6-84a4902a365c",
   "metadata": {},
   "outputs": [
    {
     "name": "stderr",
     "output_type": "stream",
     "text": [
      "C:\\Users\\SAHIL\\AppData\\Local\\Temp\\ipykernel_24336\\1304502919.py:1: SettingWithCopyWarning: \n",
      "A value is trying to be set on a copy of a slice from a DataFrame.\n",
      "Try using .loc[row_indexer,col_indexer] = value instead\n",
      "\n",
      "See the caveats in the documentation: https://pandas.pydata.org/pandas-docs/stable/user_guide/indexing.html#returning-a-view-versus-a-copy\n",
      "  df_shortened['clean_text'] = df_shortened['clean_text'].astype(str)\n"
     ]
    }
   ],
   "source": [
    "df_shortened['clean_text'] = df_shortened['clean_text'].astype(str)"
   ]
  },
  {
   "cell_type": "code",
   "execution_count": 45,
   "id": "2171c10f-b41a-4f19-b277-8e63cbcff4c0",
   "metadata": {},
   "outputs": [
    {
     "data": {
      "text/html": [
       "<div>\n",
       "<style scoped>\n",
       "    .dataframe tbody tr th:only-of-type {\n",
       "        vertical-align: middle;\n",
       "    }\n",
       "\n",
       "    .dataframe tbody tr th {\n",
       "        vertical-align: top;\n",
       "    }\n",
       "\n",
       "    .dataframe thead th {\n",
       "        text-align: right;\n",
       "    }\n",
       "</style>\n",
       "<table border=\"1\" class=\"dataframe\">\n",
       "  <thead>\n",
       "    <tr style=\"text-align: right;\">\n",
       "      <th></th>\n",
       "      <th>text</th>\n",
       "      <th>clean_text</th>\n",
       "      <th>category</th>\n",
       "      <th>category_numerical</th>\n",
       "    </tr>\n",
       "  </thead>\n",
       "  <tbody>\n",
       "    <tr>\n",
       "      <th>0</th>\n",
       "      <td>I`d have responded, if I were going</td>\n",
       "      <td>I`d have responded, if I were going</td>\n",
       "      <td>neutral</td>\n",
       "      <td>0</td>\n",
       "    </tr>\n",
       "    <tr>\n",
       "      <th>1</th>\n",
       "      <td>Sooo SAD I will miss you here in San Diego!!!</td>\n",
       "      <td>Sooo SAD</td>\n",
       "      <td>negative</td>\n",
       "      <td>-1</td>\n",
       "    </tr>\n",
       "    <tr>\n",
       "      <th>2</th>\n",
       "      <td>my boss is bullying me...</td>\n",
       "      <td>bullying me</td>\n",
       "      <td>negative</td>\n",
       "      <td>-1</td>\n",
       "    </tr>\n",
       "    <tr>\n",
       "      <th>3</th>\n",
       "      <td>what interview! leave me alone</td>\n",
       "      <td>leave me alone</td>\n",
       "      <td>negative</td>\n",
       "      <td>-1</td>\n",
       "    </tr>\n",
       "    <tr>\n",
       "      <th>4</th>\n",
       "      <td>Sons of ****, why couldn`t they put them on t...</td>\n",
       "      <td>Sons of ****,</td>\n",
       "      <td>negative</td>\n",
       "      <td>-1</td>\n",
       "    </tr>\n",
       "    <tr>\n",
       "      <th>...</th>\n",
       "      <td>...</td>\n",
       "      <td>...</td>\n",
       "      <td>...</td>\n",
       "      <td>...</td>\n",
       "    </tr>\n",
       "    <tr>\n",
       "      <th>3995</th>\n",
       "      <td>Tinkered with open-source Virtualbox &amp;Win7 ye...</td>\n",
       "      <td>Tinkered with open-source Virtualbox &amp;Win7 yet...</td>\n",
       "      <td>neutral</td>\n",
       "      <td>0</td>\n",
       "    </tr>\n",
       "    <tr>\n",
       "      <th>3996</th>\n",
       "      <td>I think the sun and the moon are God`s way of ...</td>\n",
       "      <td>I think the sun and the moon are God`s way of ...</td>\n",
       "      <td>neutral</td>\n",
       "      <td>0</td>\n",
       "    </tr>\n",
       "    <tr>\n",
       "      <th>3997</th>\n",
       "      <td>Watching twilight and eating potato salad.</td>\n",
       "      <td>Watching twilight and eating potato salad.</td>\n",
       "      <td>neutral</td>\n",
       "      <td>0</td>\n",
       "    </tr>\n",
       "    <tr>\n",
       "      <th>3998</th>\n",
       "      <td>In bed. A cuppa. Tv on... All this while husba...</td>\n",
       "      <td>Life is sweet..</td>\n",
       "      <td>positive</td>\n",
       "      <td>1</td>\n",
       "    </tr>\n",
       "    <tr>\n",
       "      <th>3999</th>\n",
       "      <td>also: is there a strategic IT plan that maps ...</td>\n",
       "      <td>also: is there a strategic IT plan that maps t...</td>\n",
       "      <td>neutral</td>\n",
       "      <td>0</td>\n",
       "    </tr>\n",
       "  </tbody>\n",
       "</table>\n",
       "<p>4000 rows × 4 columns</p>\n",
       "</div>"
      ],
      "text/plain": [
       "                                                   text  \\\n",
       "0                   I`d have responded, if I were going   \n",
       "1         Sooo SAD I will miss you here in San Diego!!!   \n",
       "2                             my boss is bullying me...   \n",
       "3                        what interview! leave me alone   \n",
       "4      Sons of ****, why couldn`t they put them on t...   \n",
       "...                                                 ...   \n",
       "3995   Tinkered with open-source Virtualbox &Win7 ye...   \n",
       "3996  I think the sun and the moon are God`s way of ...   \n",
       "3997         Watching twilight and eating potato salad.   \n",
       "3998  In bed. A cuppa. Tv on... All this while husba...   \n",
       "3999   also: is there a strategic IT plan that maps ...   \n",
       "\n",
       "                                             clean_text  category  \\\n",
       "0                   I`d have responded, if I were going   neutral   \n",
       "1                                              Sooo SAD  negative   \n",
       "2                                           bullying me  negative   \n",
       "3                                        leave me alone  negative   \n",
       "4                                         Sons of ****,  negative   \n",
       "...                                                 ...       ...   \n",
       "3995  Tinkered with open-source Virtualbox &Win7 yet...   neutral   \n",
       "3996  I think the sun and the moon are God`s way of ...   neutral   \n",
       "3997         Watching twilight and eating potato salad.   neutral   \n",
       "3998                                    Life is sweet..  positive   \n",
       "3999  also: is there a strategic IT plan that maps t...   neutral   \n",
       "\n",
       "      category_numerical  \n",
       "0                      0  \n",
       "1                     -1  \n",
       "2                     -1  \n",
       "3                     -1  \n",
       "4                     -1  \n",
       "...                  ...  \n",
       "3995                   0  \n",
       "3996                   0  \n",
       "3997                   0  \n",
       "3998                   1  \n",
       "3999                   0  \n",
       "\n",
       "[4000 rows x 4 columns]"
      ]
     },
     "execution_count": 45,
     "metadata": {},
     "output_type": "execute_result"
    }
   ],
   "source": [
    "df_shortened"
   ]
  },
  {
   "cell_type": "code",
   "execution_count": 46,
   "id": "62b8981a-ca16-47a3-891c-30e7f551765f",
   "metadata": {},
   "outputs": [
    {
     "data": {
      "text/plain": [
       "dtype('O')"
      ]
     },
     "execution_count": 46,
     "metadata": {},
     "output_type": "execute_result"
    }
   ],
   "source": [
    "df_shortened['clean_text'].dtype"
   ]
  },
  {
   "cell_type": "code",
   "execution_count": 47,
   "id": "84ad3ba4-897d-453a-8a79-b32ca521c6f7",
   "metadata": {},
   "outputs": [
    {
     "data": {
      "text/plain": [
       "0"
      ]
     },
     "execution_count": 47,
     "metadata": {},
     "output_type": "execute_result"
    }
   ],
   "source": [
    "df_shortened['clean_text'].isnull().sum()"
   ]
  },
  {
   "cell_type": "code",
   "execution_count": 48,
   "id": "e0520bce-257d-4237-9f0e-aa917b53442f",
   "metadata": {},
   "outputs": [
    {
     "name": "stderr",
     "output_type": "stream",
     "text": [
      "C:\\Users\\SAHIL\\AppData\\Local\\Temp\\ipykernel_24336\\3960970667.py:1: SettingWithCopyWarning: \n",
      "A value is trying to be set on a copy of a slice from a DataFrame\n",
      "\n",
      "See the caveats in the documentation: https://pandas.pydata.org/pandas-docs/stable/user_guide/indexing.html#returning-a-view-versus-a-copy\n",
      "  df_shortened.dropna(subset=['clean_text'], inplace=True)\n"
     ]
    }
   ],
   "source": [
    "df_shortened.dropna(subset=['clean_text'], inplace=True)"
   ]
  },
  {
   "cell_type": "code",
   "execution_count": 49,
   "id": "59d3f00c-9fab-40cd-91f5-43e10e013232",
   "metadata": {},
   "outputs": [
    {
     "data": {
      "text/plain": [
       "0"
      ]
     },
     "execution_count": 49,
     "metadata": {},
     "output_type": "execute_result"
    }
   ],
   "source": [
    "df_shortened['clean_text'].isnull().sum()"
   ]
  },
  {
   "cell_type": "code",
   "execution_count": 50,
   "id": "c9eb08ad-57ad-4257-a5e2-757715d2ede8",
   "metadata": {},
   "outputs": [
    {
     "data": {
      "text/plain": [
       "0                     I`d have responded, if I were going\n",
       "1                                                Sooo SAD\n",
       "2                                             bullying me\n",
       "3                                          leave me alone\n",
       "4                                           Sons of ****,\n",
       "                              ...                        \n",
       "3995    Tinkered with open-source Virtualbox &Win7 yet...\n",
       "3996    I think the sun and the moon are God`s way of ...\n",
       "3997           Watching twilight and eating potato salad.\n",
       "3998                                      Life is sweet..\n",
       "3999    also: is there a strategic IT plan that maps t...\n",
       "Name: clean_text, Length: 4000, dtype: object"
      ]
     },
     "execution_count": 50,
     "metadata": {},
     "output_type": "execute_result"
    }
   ],
   "source": [
    "df_shortened['clean_text']"
   ]
  },
  {
   "cell_type": "code",
   "execution_count": 51,
   "id": "af623a29-879d-4caf-a3dc-0013d59a3fb6",
   "metadata": {},
   "outputs": [],
   "source": [
    "vectorizer = TfidfVectorizer(max_features=5000)\n",
    "X = vectorizer.fit_transform(df_shortened['clean_text'])\n",
    "y = df_shortened['category_numerical']"
   ]
  },
  {
   "cell_type": "code",
   "execution_count": 52,
   "id": "abc9678a-1e4f-44de-8f8b-379940abf555",
   "metadata": {},
   "outputs": [],
   "source": [
    "X_train, X_test, y_train, y_test = train_test_split(X, y, test_size=0.2, random_state=42)\n",
    "y_train_reset = y_train.reset_index(drop=True)"
   ]
  },
  {
   "cell_type": "code",
   "execution_count": 53,
   "id": "ebfe5921-5825-4682-a468-5fb836b92f62",
   "metadata": {},
   "outputs": [
    {
     "name": "stdout",
     "output_type": "stream",
     "text": [
      "Number of samples in X_train: 3200\n",
      "Number of samples in y_train: 3200\n"
     ]
    }
   ],
   "source": [
    "print(\"Number of samples in X_train:\", X_train.shape[0])\n",
    "print(\"Number of samples in y_train:\", len(y_train))"
   ]
  },
  {
   "cell_type": "code",
   "execution_count": 54,
   "id": "74ea9984-ef6f-4250-822c-0c244d5645e1",
   "metadata": {},
   "outputs": [
    {
     "name": "stdout",
     "output_type": "stream",
     "text": [
      "Number of -1: 898\n",
      "Number of 0: 1286\n",
      "Number of 1: 1016\n"
     ]
    }
   ],
   "source": [
    "value_counts = y_train_reset.value_counts()\n",
    "\n",
    "# Get counts of -1, 0, and 1\n",
    "count_minus_1 = value_counts.get(-1, 0)\n",
    "count_0 = value_counts.get(0, 0)\n",
    "count_1 = value_counts.get(1, 0)\n",
    "\n",
    "print(\"Number of -1:\", count_minus_1)\n",
    "print(\"Number of 0:\", count_0)\n",
    "print(\"Number of 1:\", count_1)"
   ]
  },
  {
   "cell_type": "code",
   "execution_count": 55,
   "id": "4e25b4c1-2fc4-4c72-94f2-a8a1604b79bf",
   "metadata": {},
   "outputs": [
    {
     "name": "stdout",
     "output_type": "stream",
     "text": [
      "Predictions: [-1, -1, 0, -1, 1, -1, -1, 0, -1, -1, 0, 0, 1, -1, 0, 1, 0, -1, 0, -1, 1, 0, -1, -1, -1, -1, -1, 0, 1, 0, 1, -1, 1, 0, 0, -1, -1, 1, 0, -1, 0, 0, -1, 0, 0, 0, 1, 1, 1, 1, 1, 1, 1, 1, -1, -1, 0, 0, -1, 1, 0, 1, 1, 1, -1, 0, 0, -1, 0, 0, -1, 0, 1, 1, 1, 0, -1, 1, -1, -1, -1, -1, -1, -1, -1, -1, -1, -1, 1, 0, -1, 1, 0, 1, 0, 0, 0, -1, 0, 1, 1, 0, 0, 1, 1, 1, -1, 0, 1, -1, -1, 0, 0, 1, 0, -1, 1, 0, 1, 1, 0, 1, -1, 1, -1, 0, 0, 0, -1, 0, 0, -1, -1, 1, 1, -1, 1, -1, 0, -1, -1, 0, 1, 1, 0, 0, -1, -1, 0, 1, -1, 1, 0, 0, 0, 1, 0, 1, 0, 1, 0, 1, 0, 0, -1, 1, 1, -1, 1, 1, 0, -1, -1, 0, -1, 1, 1, 0, -1, 0, 1, 1, 1, -1, 0, 1, 0, -1, 1, 0, -1, 1, 0, 1, -1, 1, 1, 0, 0, -1, 0, 0, -1, 0, 1, 1, 0, -1, 1, 0, 0, 1, 0, -1, 0, 1, 1, -1, 1, 0, -1, -1, 0, 1, -1, -1, -1, -1, -1, 0, -1, 1, 1, 1, 0, 1, -1, 1, 1, 1, -1, 0, 1, 0, 1, -1, 1, -1, 0, -1, -1, -1, -1, 0, 0, -1, -1, -1, 1, 0, 1, 0, 1, -1, -1, -1, -1, 1, 0, 1, 0, -1, 0, 0, 0, -1, -1, 1, -1, -1, 1, 0, -1, -1, 0, -1, 1, 0, 1, 1, -1, 1, -1, 0, 1, 0, 0, 0, 1, 0, 1, -1, 0, -1, 0, 1, -1, 0, 1, 1, -1, -1, 1, 0, 1, -1, 1, 0, 0, 1, -1, -1, 1, -1, -1, 1, -1, 1, 0, -1, 0, -1, 0, 1, 1, 1, 0, -1, 0, 1, 0, 1, -1, -1, -1, 0, -1, 0, -1, 1, 0, -1, -1, 1, -1, 1, 1, 1, 1, -1, -1, 1, 1, -1, 0, -1, 0, 0, 0, 1, -1, -1, 0, 1, 1, 1, -1, 1, 1, 0, -1, 0, 1, -1, -1, -1, 0, 1, -1, 1, 1, 1, -1, 0, -1, 0, -1, 1, 1, -1, -1, -1, -1, 0, 1, 0, 0, 1, 0, 0, 1, -1, -1, 1, -1, 1, 0, -1, 0, 1, 0, 0, 1, 1, 1, -1, -1, 1, 0, -1, -1, 0, 1, 0, 1, 0, 1, -1, 1, 0, -1, 0, 1, 1, 0, 0, 1, 1, -1, 0, 1, 1, 1, -1, -1, 0, -1, 1, 1, -1, 0, 0, -1, 0, 1, 0, -1, -1, 1, 0, -1, 1, 0, -1, 1, 0, 0, 0, -1, 0, 0, 0, 0, -1, 0, 1, -1, 1, 0, 1, 1, -1, -1, 1, 0, 0, 0, 0, 1, -1, -1, 0, 1, 0, 1, 1, -1, 0, 1, 0, -1, -1, 0, -1, 0, 0, -1, 1, 0, 1, -1, 0, -1, 0, 0, 1, 1, -1, 0, -1, 1, -1, 1, 1, -1, 1, 1, -1, 1, 0, 1, 0, -1, 0, 0, 0, 0, 1, -1, 1, -1, 0, 0, 1, 0, 1, 1, 0, -1, 1, 1, 1, 0, 1, 1, -1, 1, 1, 0, 0, -1, 0, 0, -1, 0, 1, 1, -1, -1, 0, 0, 1, 0, 1, -1, -1, 0, 1, 1, -1, 0, 0, -1, 1, 0, 1, -1, -1, 0, 1, 0, -1, -1, -1, 1, 0, -1, 1, 0, 0, 1, -1, 1, -1, 1, 1, 1, 0, 0, -1, -1, -1, 0, 1, 0, 1, 1, 0, -1, 1, -1, -1, 0, 0, 0, -1, -1, 1, 0, -1, -1, -1, 1, -1, 1, -1, 0, 0, 1, 1, 0, 1, 1, 1, -1, 0, 1, -1, -1, 1, -1, -1, -1, 1, 1, -1, 0, 1, 1, -1, -1, 1, 0, -1, 0, 0, 0, 0, -1, 0, 0, 1, 0, 1, 1, 1, 0, 0, 1, 1, -1, 0, -1, 0, 0, -1, -1, -1, 1, 1, -1, 1, -1, 1, -1, -1, -1, 1, -1, 1, -1, 1, -1, 0, -1, -1, -1, 1, 0, 1, -1, -1, 0, 0, 1, -1, -1, 0, -1, 0, 0, 0, 1, 1, -1, 1, -1, -1, 1, 0, -1, 0, -1, -1, -1, 1, -1, -1, 0, 0, 0, -1, 0, 1, -1, -1, 0, 1, 1, -1, 1, 0, -1, -1, -1, -1, 1, 0, -1, -1, -1, -1, 1, 1, 0, 1, -1, 1, 0, -1, 0, 0, -1, 1, 0, 1, -1, 1, -1, -1, 1, 0, 1, 1, 0, -1, -1, -1, 0, -1]\n"
     ]
    }
   ],
   "source": [
    "knn = KNN(k=60)  # Initialize KNN with k=3\n",
    "knn.fit(X_train.toarray(), y_train_reset)  # Fit the model on training data\n",
    "predictions = knn.predict(X_test.toarray())  # Make predictions on test data\n",
    "print(\"Predictions:\", predictions)"
   ]
  },
  {
   "cell_type": "code",
   "execution_count": 56,
   "id": "716a6e78-880b-439c-a004-abf1deb5fc13",
   "metadata": {},
   "outputs": [
    {
     "name": "stdout",
     "output_type": "stream",
     "text": [
      "Predictions: [1, 1, 0, 0, -1, 1, -1, 1, -1, 1, 1, 1, 0, 1, -1, -1, 1, 1, 0, 0, 1, 1, -1, -1, 1, -1, -1, 1, -1, 1, -1, -1, -1, -1, 1, 1, 1, -1, -1, 1, -1, -1, 1, 1, 1, 1, -1, -1, 1, -1, -1, 1, -1, -1, 0, 1, -1, -1, -1, -1, -1, 1, -1, 1, 1, 1, 1, -1, 1, 1, -1, -1, -1, -1, -1, -1, -1, 1, 1, 1, -1, 1, -1, 1, 0, -1, 1, -1, 1, -1, -1, -1, -1, 0, 1, -1, 1, 1, -1, 1, -1, -1, 1, 1, 1, 1, 1, 1, 1, 1, 0, 1, 1, 0, 1, -1, 1, -1, 1, 1, -1, -1, 1, 0, 0, 1, 1, -1, -1, 1, -1, 1, 1, -1, -1, -1, -1, 1, 1, -1, 0, -1, 0, -1, 1, -1, 1, 1, -1, -1, -1, -1, -1, 1, -1, -1, 1, -1, 1, 0, -1, 1, 1, 0, 1, -1, -1, 1, -1, 1, 0, 1, 0, 1, 1, -1, -1, -1, 0, 1, -1, -1, 1, 0, -1, -1, 1, -1, -1, -1, -1, -1, 1, -1, 0, -1, -1, -1, -1, -1, 1, 1, 1, -1, 1, -1, -1, 1, -1, -1, -1, 0, 1, 1, 0, 1, 0, -1, 1, -1, 0, -1, -1, -1, 1, 0, 1, 1, -1, 1, 1, -1, 0, -1, -1, 1, 1, -1, -1, -1, -1, -1, 0, 1, -1, -1, -1, -1, 1, -1, 0, -1, 1, -1, 0, -1, 0, -1, -1, -1, 0, -1, -1, 0, -1, -1, 1, 1, -1, 1, -1, 0, -1, -1, 1, -1, 1, 1, -1, -1, 0, -1, -1, 1, -1, -1, 1, -1, 1, -1, 1, -1, -1, 1, 0, -1, 1, 1, 0, -1, -1, -1, 1, 1, 1, -1, 1, -1, -1, -1, 1, 1, 0, 0, 1, 1, 0, -1, -1, 1, 1, 1, 0, -1, 1, -1, 1, 1, 1, 1, -1, -1, -1, -1, -1, -1, 1, 1, 1, 1, 1, -1, -1, 0, -1, -1, 1, -1, 0, -1, 1, 1, 1, -1, 1, -1, -1, 1, 0, 0, 1, 1, -1, -1, 1, -1, -1, -1, 1, -1, 1, 1, 1, -1, -1, -1, 0, 1, 0, -1, 1, 1, -1, 1, -1, -1, -1, -1, 1, 1, -1, 0, 1, 1, 1, 1, -1, 0, -1, -1, 1, -1, 0, 1, 0, 1, 1, -1, 1, -1, -1, -1, 1, -1, 1, -1, -1, 1, -1, 1, 1, -1, 0, -1, 0, -1, 1, 1, -1, 1, 1, -1, 0, -1, -1, 1, 0, 1, 0, -1, 1, 1, -1, -1, -1, 1, 0, -1, -1, -1, -1, -1, -1, 1, 1, -1, 0, -1, 1, 1, -1, -1, 1, -1, 1, -1, 0, 0, 1, -1, -1, 1, 1, 1, 1, -1, 1, 1, 1, 0, -1, 1, -1, 0, -1, -1, 1, -1, -1, -1, -1, -1, 0, -1, 1, 1, 1, 1, -1, 1, -1, -1, 1, -1, -1, 0, 0, 1, -1, 1, 1, 1, 1, 1, -1, 1, 0, 1, -1, -1, 0, -1, 1, -1, 1, -1, -1, -1, 1, -1, -1, -1, -1, -1, -1, 1, 1, 1, -1, -1, 1, -1, 1, 1, 1, -1, 1, 0, 1, 1, 1, -1, 1, -1, 1, -1, -1, -1, 0, -1, -1, -1, -1, -1, 0, 1, -1, -1, -1, 1, 0, 1, 1, 1, 1, 1, -1, 1, 0, 1, 1, -1, 1, 1, 1, 1, 1, -1, -1, -1, 1, 1, -1, -1, -1, -1, -1, 1, -1, 1, 1, -1, 1, 1, 1, 1, 1, -1, 1, 1, -1, 1, -1, -1, -1, 0, -1, -1, 1, 1, 1, -1, 1, -1, -1, -1, 0, -1, 1, 1, -1, 1, 1, -1, -1, 1, 1, 1, 0, 1, 1, 1, -1, -1, 1, 1, 1, 1, -1, -1, 1, 1, -1, -1, 0, 0, 1, 1, -1, -1, -1, 1, 1, -1, -1, 0, -1, -1, -1, -1, 1, -1, -1, 1, -1, -1, 1, 1, -1, 0, 1, -1, -1, -1, -1, 1, -1, 1, -1, -1, -1, 1, 1, -1, 1, -1, -1, -1, -1, -1, 1, 1, -1, -1, 1, 1, 1, -1, -1, -1, -1, 1, 1, -1, -1, 1, 1, -1, 1, 1, 0, -1, 1, -1, 1, 1, 1, 1, 1, 1, -1, -1, 1, -1, 1, 0, 1, 0, -1, 1, 1, -1, 1, -1, 0, -1, 0, -1, -1, -1, -1, -1, -1, 0, 1, 0, -1, -1, -1, 1, -1, -1, 1, 1, -1, 1, 1, 1, 0, 1, 0, -1, -1, 0, -1, -1, 1, -1, 1, 1, 1, -1, 0, -1, 1, 0, 1, -1, 1, 1, -1, -1, 1, -1, 1, -1, 1, -1, 1, -1]\n"
     ]
    }
   ],
   "source": [
    "knn1 = WeightedKNN(k=60)  # Initialize KNN with k=3\n",
    "knn1.fit(X_train.toarray(), y_train_reset)  # Fit the model on training data\n",
    "predictions1 = knn1.predict(X_test.toarray())  # Make predictions on test data\n",
    "print(\"Predictions:\", predictions1)"
   ]
  },
  {
   "cell_type": "code",
   "execution_count": 57,
   "id": "f77895b4-2cf5-40b8-9cd6-5398ce3dc35c",
   "metadata": {},
   "outputs": [
    {
     "name": "stdout",
     "output_type": "stream",
     "text": [
      "Predictions: [0, -1, -1, -1, 0, -1, -1, 0, -1, 0, 0, 0, 1, -1, 0, 1, 0, -1, -1, -1, 1, -1, -1, 0, -1, -1, -1, 0, 0, -1, 0, 0, 1, 0, 0, -1, -1, 0, 0, -1, -1, 0, -1, 0, 0, 0, 0, 0, 0, 1, -1, 0, -1, 0, -1, -1, -1, -1, -1, 0, 0, 0, 1, 0, -1, 0, 0, -1, 0, 0, -1, 0, 1, 0, 1, 0, -1, 1, -1, 0, 0, 0, 0, 0, 0, -1, 0, 0, -1, -1, -1, 1, 0, 1, 0, 0, 0, -1, 0, 0, 1, 0, -1, 0, 0, -1, -1, 0, 1, -1, -1, -1, 0, 0, 0, -1, 0, 0, 1, 0, 0, 1, 0, 1, -1, 0, 0, 0, -1, 0, 0, 0, 0, 1, 0, -1, 1, -1, 0, -1, 0, 0, 1, 1, -1, -1, -1, -1, 0, 1, -1, 1, 0, 0, 0, 1, -1, 0, 0, 1, 0, 0, 0, -1, -1, 0, 1, 0, 1, 1, -1, 0, -1, 0, -1, 1, 1, -1, 0, 0, 1, 1, 0, -1, 0, 1, 0, -1, 0, 0, -1, 0, 0, 1, -1, 1, 0, 0, 0, -1, -1, -1, -1, 0, 1, 0, 0, -1, 0, 0, 0, 1, -1, -1, 0, 0, 0, -1, 0, 0, -1, 0, 0, 1, -1, 1, -1, 0, 0, 0, -1, 1, 1, -1, 0, -1, -1, 1, 0, 0, -1, 0, 1, 0, 0, -1, 1, -1, 0, 0, -1, -1, -1, -1, -1, 0, -1, 0, 1, 0, -1, 0, 1, -1, -1, -1, 0, 1, 0, 0, 0, -1, 0, -1, 0, -1, 0, 1, -1, -1, 0, 0, -1, 0, 0, 0, 1, 0, 0, 0, -1, 0, -1, 0, 1, 0, 0, 0, 0, 0, 1, 0, 0, -1, 0, 1, -1, 0, 0, 0, 0, 0, 1, 0, 1, 0, 1, 0, -1, 0, 0, 0, 1, -1, 0, 0, -1, -1, 0, -1, 0, 0, 0, 1, 1, 1, 0, -1, 0, 1, -1, 0, -1, 0, -1, 0, 0, -1, -1, 0, 0, 0, -1, 1, 0, 1, 1, 1, -1, 0, 0, 0, 0, -1, 0, 0, -1, 0, 0, 0, -1, -1, 0, 0, -1, 1, -1, 1, 0, 0, -1, 0, -1, 0, 0, -1, 0, 0, 0, 0, 1, 1, -1, 0, -1, -1, -1, 0, 1, -1, -1, -1, 0, 0, 1, -1, 0, 0, -1, 0, 0, -1, -1, 0, 0, 0, -1, -1, 0, -1, 0, -1, 1, 0, 1, -1, -1, 1, -1, 0, -1, 0, -1, 0, 0, 0, 0, 0, 1, 0, -1, 0, 1, 0, 0, -1, 1, 0, 0, -1, 1, 1, 1, -1, -1, 0, -1, 1, -1, -1, -1, 0, -1, 0, -1, 0, -1, -1, 1, 0, 0, 0, 0, -1, 0, -1, 0, -1, -1, 0, 0, -1, -1, -1, 0, 0, -1, 1, 0, 1, 1, -1, 0, 1, -1, -1, -1, -1, 0, 0, -1, 0, 0, 0, 1, 1, -1, 0, 0, 0, -1, -1, 0, -1, -1, 0, 0, 0, -1, 0, 1, 0, -1, 0, 0, 0, 0, 0, -1, -1, 1, -1, 0, 1, -1, 1, 1, -1, 1, 0, 1, 0, -1, 0, -1, 0, -1, 1, 0, 0, -1, 0, 0, 0, 0, 0, -1, 0, -1, 0, 1, 0, 0, 1, -1, 0, 1, 1, -1, 0, 0, -1, -1, -1, 0, 1, 1, 0, 0, 0, 0, 0, -1, -1, -1, 0, -1, 1, 1, 0, -1, 0, -1, 1, 0, 0, 0, -1, 0, -1, -1, 0, -1, -1, -1, 0, -1, 1, -1, 0, 0, -1, 1, 0, 1, 1, 1, -1, 0, -1, -1, -1, 0, 1, 0, 0, 0, 0, -1, 1, -1, 0, 0, -1, -1, -1, -1, -1, 0, -1, -1, 0, 1, 0, -1, 0, 0, 0, 0, 0, -1, 0, 0, 1, -1, 0, 1, -1, -1, 1, -1, 0, 0, 0, 1, 0, 0, 0, 0, 0, -1, -1, 0, -1, -1, -1, 0, 0, -1, 0, 0, 0, -1, 1, 1, 1, -1, -1, 1, 1, -1, -1, -1, 0, 0, -1, -1, -1, 0, 0, -1, 0, -1, 1, -1, -1, 0, 1, -1, 1, -1, -1, -1, -1, -1, -1, -1, 1, 0, 0, 0, -1, 0, 0, 1, -1, 0, -1, 0, 0, 0, 0, -1, 0, -1, 1, -1, 1, 1, 0, 0, 0, 0, -1, 0, 0, 0, -1, 0, 0, 0, -1, -1, 0, 0, -1, -1, 0, 0, -1, 0, 0, -1, -1, -1, 0, 1, -1, -1, -1, -1, -1, 0, 0, -1, 1, -1, 1, 0, -1, -1, 0, -1, 0, -1, 1, -1, 0, 0, -1, 1, 0, 1, 1, -1, 0, 0, 0, 0, -1]\n"
     ]
    }
   ],
   "source": [
    "lm_knn = LM_KNN(k=60)\n",
    "lm_knn.fit(X_train.toarray(), y_train_reset)\n",
    "predictions2 = lm_knn.predict(X_test.toarray())\n",
    "print(\"Predictions:\", predictions2)"
   ]
  },
  {
   "cell_type": "code",
   "execution_count": 58,
   "id": "b201c448-2096-4575-8738-3e42a054b5f4",
   "metadata": {},
   "outputs": [
    {
     "name": "stdout",
     "output_type": "stream",
     "text": [
      "Predictions: [-1. -1.  0.  0.  1. -1.  0.  0. -1. -1.  0.  0.  1. -1.  0.  1.  0. -1.\n",
      "  0. -1.  1.  0.  0. -1. -1.  0.  0.  0.  1.  0.  1. -1.  1.  0.  0.  0.\n",
      " -1.  1.  0.  0.  0.  0.  0.  0.  0.  0.  1.  1.  1.  1.  1.  1.  0.  1.\n",
      " -1.  0.  0.  0. -1.  1.  0.  1.  1.  1. -1. -1. -1.  0.  0.  0.  0.  0.\n",
      "  1.  1.  1.  0.  0.  1. -1. -1. -1. -1. -1. -1. -1.  0. -1. -1.  0.  0.\n",
      "  0.  1.  0.  1.  0.  0.  0. -1.  0.  1.  1.  0.  0.  1.  1.  0.  0.  0.\n",
      "  1. -1. -1.  0.  0.  1.  0. -1.  1.  0.  1.  1.  0.  1. -1.  1. -1.  0.\n",
      "  0.  0.  0. -1. -1. -1. -1.  1.  1. -1.  1. -1.  0. -1. -1.  0.  1.  1.\n",
      "  0.  0. -1.  0.  0.  1. -1.  1.  0.  0.  0.  1.  0.  1.  0.  1.  0.  1.\n",
      " -1.  0. -1.  1.  1. -1.  1.  1.  0. -1. -1.  0. -1.  1.  1.  0. -1.  0.\n",
      "  1.  1.  1. -1.  0.  1.  0.  0.  1.  0.  0.  1. -1.  1. -1.  1.  1.  0.\n",
      "  0. -1.  0.  0.  0.  0.  1.  1.  0. -1.  1.  0.  0.  1.  0. -1.  0.  0.\n",
      "  1. -1.  1.  0. -1. -1.  0.  1. -1. -1. -1. -1. -1.  0.  0.  1.  1.  1.\n",
      "  0.  1. -1.  1.  1.  1. -1.  0.  1.  0.  1. -1.  1. -1.  0. -1. -1.  0.\n",
      " -1.  0.  0. -1.  0. -1.  1.  0. -1.  0.  1. -1.  0. -1. -1.  1.  0.  1.\n",
      "  0. -1.  0.  0.  0.  0. -1.  1.  0. -1.  1.  0. -1. -1.  0. -1.  1.  0.\n",
      "  1.  1. -1.  1. -1.  0.  1.  0.  0.  0.  1.  0.  1. -1.  0. -1.  0.  1.\n",
      " -1.  0.  1.  1. -1. -1.  1.  0.  1. -1.  1.  0. -1.  0. -1. -1.  1. -1.\n",
      " -1.  1. -1.  0.  0. -1.  0. -1.  0.  1.  1.  1.  0. -1. -1.  1.  0.  1.\n",
      "  0. -1. -1.  0. -1.  0. -1.  1.  0. -1. -1.  1. -1.  1.  1.  1.  1. -1.\n",
      " -1.  1. -1. -1.  0. -1.  0.  0.  0.  1. -1. -1.  0.  1.  0.  1. -1.  1.\n",
      "  1.  0. -1.  0.  0. -1. -1.  0.  0.  1. -1.  1.  1.  1. -1. -1. -1.  0.\n",
      "  0.  1.  1. -1. -1. -1. -1.  0.  1.  0.  0.  1.  0.  0.  1. -1. -1.  1.\n",
      " -1.  1.  0. -1.  0.  0.  0.  0.  1.  1.  1. -1. -1.  1.  0. -1.  0.  0.\n",
      "  1.  0.  1.  0.  1. -1.  1.  0. -1.  0.  1.  1.  0.  0.  1.  1. -1.  0.\n",
      "  1.  1.  1.  0.  0.  0. -1.  1.  1. -1.  0.  0. -1.  0.  1.  0. -1. -1.\n",
      "  1.  0. -1.  1.  0.  0. -1.  0.  0.  0. -1.  0.  0.  0. -1. -1.  0.  1.\n",
      " -1.  1.  0.  1.  1.  0. -1.  1.  0.  0.  0.  0.  1. -1. -1.  0.  1.  0.\n",
      "  1.  1.  0.  0.  1.  0. -1. -1.  0. -1. -1.  0. -1. -1.  0.  1. -1.  0.\n",
      " -1.  0.  0.  1.  1. -1. -1. -1.  1.  0. -1.  1. -1.  1.  1. -1.  1.  0.\n",
      "  1.  0.  0.  0.  0.  0.  0.  1. -1.  1. -1.  0.  0.  1.  0.  1.  0.  0.\n",
      "  0.  1.  1.  1. -1.  1.  1. -1.  1.  1.  0.  0. -1.  0.  0. -1.  0.  1.\n",
      "  1. -1. -1.  0.  0.  1.  0.  0. -1. -1. -1.  1.  1. -1.  0.  0.  0.  1.\n",
      "  0.  1. -1. -1.  0.  1.  0. -1.  0. -1.  0.  0. -1.  1.  0.  0.  1. -1.\n",
      "  1. -1.  1.  1.  1.  0.  0. -1.  0. -1.  0.  1.  0.  1.  1.  0. -1.  1.\n",
      " -1. -1.  0.  0.  0. -1. -1.  0.  0. -1. -1. -1.  1. -1.  0. -1.  0.  0.\n",
      "  1.  1.  0.  1.  1.  1. -1.  0.  1.  0. -1.  1.  0. -1. -1.  1.  1. -1.\n",
      "  0.  1.  1. -1. -1.  1.  0.  0.  0.  0.  0.  0. -1.  0.  0.  1.  0.  1.\n",
      "  1.  1.  0.  0.  1.  1.  0.  0.  0.  0.  0. -1. -1.  0.  1.  1. -1.  0.\n",
      " -1.  1. -1. -1. -1.  1.  0.  1. -1. -1. -1.  0. -1. -1. -1.  1.  0.  1.\n",
      " -1. -1.  0.  0.  1.  0. -1.  0. -1.  0.  0. -1.  0.  1.  0.  1.  0. -1.\n",
      "  1.  0. -1.  0. -1. -1. -1. -1. -1.  0.  0.  0.  0. -1.  0.  1. -1.  0.\n",
      "  0.  1.  1.  0.  1.  0.  0.  0. -1. -1.  1.  0. -1. -1. -1. -1.  1.  1.\n",
      "  0.  1.  0.  1.  0. -1.  0.  0. -1.  1.  0.  1. -1.  1. -1. -1.  1.  0.\n",
      "  1.  1.  0. -1. -1. -1.  0. -1.]\n"
     ]
    }
   ],
   "source": [
    "ball_tree_knn = BallTreeKNN(k=60)\n",
    "ball_tree_knn.fit(X_train.toarray(), y_train_reset)\n",
    "predictions3 = ball_tree_knn.predict(X_test.toarray())\n",
    "print(\"Predictions:\", predictions3)"
   ]
  },
  {
   "cell_type": "code",
   "execution_count": 62,
   "id": "15d2c986-df2f-4d21-a980-ca8da20599ff",
   "metadata": {},
   "outputs": [
    {
     "name": "stdout",
     "output_type": "stream",
     "text": [
      "Predictions: [1, 1, 0, 0, -1, 1, -1, 1, -1, 1, 1, 1, 0, 1, -1, -1, 1, 1, 0, 0, 1, 1, -1, -1, 1, -1, -1, 1, -1, 1, -1, -1, -1, -1, 1, 1, 1, -1, -1, 1, -1, -1, 1, 1, 1, 1, -1, -1, 1, -1, -1, 1, -1, -1, 0, 1, -1, -1, -1, -1, -1, 1, -1, 1, 1, 1, 1, -1, 1, 1, -1, -1, -1, -1, -1, -1, -1, 1, 1, 1, -1, 1, -1, 1, 0, -1, 1, -1, 1, -1, -1, -1, -1, 0, 1, -1, 1, 1, -1, 1, -1, -1, 1, 1, 1, 1, 1, 1, 1, 1, 0, 1, 1, 0, 1, -1, 1, -1, 1, 1, -1, -1, 1, 0, 0, 1, 1, -1, -1, 1, -1, 1, 1, -1, -1, -1, -1, 1, 1, -1, 0, -1, 0, -1, 1, -1, 1, 1, -1, -1, -1, -1, -1, 1, -1, -1, 1, -1, 1, 0, -1, 1, 1, 0, 1, -1, -1, 1, -1, 1, 0, 1, 0, 1, 1, -1, -1, -1, 0, 1, -1, -1, 1, 0, -1, -1, 1, -1, -1, -1, -1, -1, 1, -1, 0, -1, -1, -1, -1, -1, 1, 1, 1, -1, 1, -1, -1, 1, -1, -1, -1, 0, 1, 1, 0, 1, 0, -1, 1, -1, 0, -1, -1, -1, 1, 0, 1, 1, -1, 1, 1, -1, 0, -1, -1, 1, 1, -1, -1, -1, -1, -1, 0, 1, -1, -1, -1, -1, 1, -1, 0, -1, 1, -1, 0, -1, 0, -1, -1, -1, 0, -1, -1, 0, -1, -1, 1, 1, -1, 1, -1, 0, -1, -1, 1, -1, 1, 1, -1, -1, 0, -1, -1, 1, -1, -1, 1, -1, 1, -1, 1, -1, -1, 1, 0, -1, 1, 1, 0, -1, -1, -1, 1, 1, 1, -1, 1, -1, -1, -1, 1, 1, 0, 0, 1, 1, 0, -1, -1, 1, 1, 1, 0, -1, 1, -1, 1, 1, 1, 1, -1, -1, -1, -1, -1, -1, 1, 1, 1, 1, 1, -1, -1, 0, -1, -1, 1, -1, 0, -1, 1, 1, 1, -1, 1, -1, -1, 1, 0, 0, 1, 1, -1, -1, 1, -1, -1, -1, 1, -1, 1, 1, 1, -1, -1, -1, 0, 1, 0, -1, 1, 1, -1, 1, -1, -1, -1, -1, 1, 1, -1, 0, 1, 1, 1, 1, -1, 0, -1, -1, 1, -1, 0, 1, 0, 1, 1, -1, 1, -1, -1, -1, 1, -1, 1, -1, -1, 1, -1, 1, 1, -1, 0, -1, 0, -1, 1, 1, -1, 1, 1, -1, 0, -1, -1, 1, 0, 1, 0, -1, 1, 1, -1, -1, -1, 1, 0, -1, -1, -1, -1, -1, -1, 1, 1, -1, 0, -1, 1, 1, -1, -1, 1, -1, 1, -1, 0, 0, 1, -1, -1, 1, 1, 1, 1, -1, 1, 1, 1, 0, -1, 1, -1, 0, -1, -1, 1, -1, -1, -1, -1, -1, 0, -1, 1, 1, 1, 1, -1, 1, -1, -1, 1, -1, -1, 0, 0, 1, -1, 1, 1, 1, 1, 1, -1, 1, 0, 1, -1, -1, 0, -1, 1, -1, 1, -1, -1, -1, 1, -1, -1, -1, -1, -1, -1, 1, 1, 1, -1, -1, 1, -1, 1, 1, 1, -1, 1, 0, 1, 1, 1, -1, 1, -1, 1, -1, -1, -1, 0, -1, -1, -1, -1, -1, 0, 1, -1, -1, -1, 1, 0, 1, 1, 1, 1, 1, -1, 1, 0, 1, 1, -1, 1, 1, 1, 1, 1, -1, -1, -1, 1, 1, -1, -1, -1, -1, -1, 1, -1, 1, 1, -1, 1, 1, 1, 1, 1, -1, 1, 1, -1, 1, -1, -1, -1, 0, -1, -1, 1, 1, 1, -1, 1, -1, -1, -1, 0, -1, 1, 1, -1, 1, 1, -1, -1, 1, 1, 1, 0, 1, 1, 1, -1, -1, 1, 1, 1, 1, -1, -1, 1, 1, -1, -1, 0, 0, 1, 1, -1, -1, -1, 1, 1, -1, -1, 0, -1, -1, -1, -1, 1, -1, -1, 1, -1, -1, 1, 1, -1, 0, 1, -1, -1, -1, -1, 1, -1, 1, -1, -1, -1, 1, 1, -1, 1, -1, -1, -1, -1, -1, 1, 1, -1, -1, 1, 1, 1, -1, -1, -1, -1, 1, 1, -1, -1, 1, 1, -1, 1, 1, 0, -1, 1, -1, 1, 1, 1, 1, 1, 1, -1, -1, 1, -1, 1, 0, 1, 0, -1, 1, 1, -1, 1, -1, 0, -1, 0, -1, -1, -1, -1, -1, -1, 0, 1, 0, -1, -1, -1, 1, -1, -1, 1, 1, -1, 1, 1, 1, 0, 1, 0, -1, -1, 0, -1, -1, 1, -1, 1, 1, 1, -1, 0, -1, 1, 0, 1, -1, 1, 1, -1, -1, 1, -1, 1, -1, 1, -1, 1, -1]\n"
     ]
    }
   ],
   "source": [
    "knn =DistanceWeightedKNN(k=60)  # Initialize KNN with k=3\n",
    "knn.fit(X_train.toarray(), y_train_reset)  # Fit the model on training data\n",
    "predictions4 = knn.predict(X_test.toarray())  # Make predictions on test data\n",
    "print(\"Predictions:\", predictions4)"
   ]
  },
  {
   "cell_type": "code",
   "execution_count": 68,
   "id": "09612fe6-4985-4bae-b6e6-28a15d2b3665",
   "metadata": {},
   "outputs": [
    {
     "name": "stdout",
     "output_type": "stream",
     "text": [
      "Accuracy: 0.625\n"
     ]
    }
   ],
   "source": [
    "from sklearn.metrics import accuracy_score\n",
    "\n",
    "# Assuming y_test contains the true labels for the test data\n",
    "accuracy = accuracy_score(y_test, predictions)\n",
    "print(\"Accuracy:\", accuracy)"
   ]
  },
  {
   "cell_type": "code",
   "execution_count": 69,
   "id": "faef45b7-c8a4-4025-9d7c-b1bae2f09f28",
   "metadata": {},
   "outputs": [
    {
     "name": "stdout",
     "output_type": "stream",
     "text": [
      "Accuracy: 0.2975\n"
     ]
    }
   ],
   "source": [
    "from sklearn.metrics import accuracy_score\n",
    "\n",
    "# Assuming y_test contains the true labels for the test data\n",
    "accuracy1 = accuracy_score(y_test, predictions1)\n",
    "print(\"Accuracy:\", accuracy1)"
   ]
  },
  {
   "cell_type": "code",
   "execution_count": 70,
   "id": "7f135388-e157-4e0f-8bb9-83ff9550484b",
   "metadata": {},
   "outputs": [
    {
     "name": "stdout",
     "output_type": "stream",
     "text": [
      "Accuracy: 0.655\n"
     ]
    }
   ],
   "source": [
    "from sklearn.metrics import accuracy_score\n",
    "\n",
    "# Assuming y_test contains the true labels for the test data\n",
    "accuracy2 = accuracy_score(y_test, predictions2)\n",
    "print(\"Accuracy:\", accuracy2)"
   ]
  },
  {
   "cell_type": "code",
   "execution_count": 71,
   "id": "bbded798-890d-495d-9245-36abc795b8c8",
   "metadata": {},
   "outputs": [
    {
     "name": "stdout",
     "output_type": "stream",
     "text": [
      "Accuracy: 0.57\n"
     ]
    }
   ],
   "source": [
    "from sklearn.metrics import accuracy_score\n",
    "\n",
    "# Assuming y_test contains the true labels for the test data\n",
    "accuracy3 = accuracy_score(y_test, predictions3)\n",
    "print(\"Accuracy:\", accuracy3)"
   ]
  },
  {
   "cell_type": "code",
   "execution_count": 72,
   "id": "13aea6e5-d558-42a7-bb30-370056346bd7",
   "metadata": {},
   "outputs": [
    {
     "name": "stdout",
     "output_type": "stream",
     "text": [
      "Accuracy: 0.2975\n"
     ]
    }
   ],
   "source": [
    "from sklearn.metrics import accuracy_score\n",
    "\n",
    "# Assuming y_test contains the true labels for the test data\n",
    "accuracy4 = accuracy_score(y_test, predictions4)\n",
    "print(\"Accuracy:\", accuracy4)"
   ]
  },
  {
   "cell_type": "code",
   "execution_count": 73,
   "id": "b8599cb1-2a9a-4223-9154-5c2055e7ae12",
   "metadata": {},
   "outputs": [
    {
     "data": {
      "text/plain": [
       "array([[153,  49,  20],\n",
       "       [ 81, 166,  63],\n",
       "       [ 46,  41, 181]], dtype=int64)"
      ]
     },
     "execution_count": 73,
     "metadata": {},
     "output_type": "execute_result"
    }
   ],
   "source": [
    "from sklearn.metrics import confusion_matrix\n",
    "cm = confusion_matrix(y_test, predictions)\n",
    "cm"
   ]
  },
  {
   "cell_type": "code",
   "execution_count": 74,
   "id": "47d3d010-f010-46b0-8c76-c730f2e43abf",
   "metadata": {},
   "outputs": [
    {
     "data": {
      "text/plain": [
       "array([[ 99,  26,  97],\n",
       "       [145,  35, 130],\n",
       "       [134,  30, 104]], dtype=int64)"
      ]
     },
     "execution_count": 74,
     "metadata": {},
     "output_type": "execute_result"
    }
   ],
   "source": [
    "from sklearn.metrics import confusion_matrix\n",
    "cm1 = confusion_matrix(y_test, predictions1)\n",
    "cm1"
   ]
  },
  {
   "cell_type": "code",
   "execution_count": 75,
   "id": "bf1a7ba0-ca35-4049-accb-7f4bd0590c48",
   "metadata": {},
   "outputs": [
    {
     "data": {
      "text/plain": [
       "array([[164,  51,   7],\n",
       "       [ 48, 247,  15],\n",
       "       [ 76,  79, 113]], dtype=int64)"
      ]
     },
     "execution_count": 75,
     "metadata": {},
     "output_type": "execute_result"
    }
   ],
   "source": [
    "from sklearn.metrics import confusion_matrix\n",
    "cm2 = confusion_matrix(y_test, predictions2)\n",
    "cm2"
   ]
  },
  {
   "cell_type": "code",
   "execution_count": 76,
   "id": "387c807c-7017-4159-a24b-056cd888e747",
   "metadata": {},
   "outputs": [
    {
     "data": {
      "text/plain": [
       "array([[130,  74,  18],\n",
       "       [ 93, 160,  57],\n",
       "       [ 22,  80, 166]], dtype=int64)"
      ]
     },
     "execution_count": 76,
     "metadata": {},
     "output_type": "execute_result"
    }
   ],
   "source": [
    "from sklearn.metrics import confusion_matrix\n",
    "cm3 = confusion_matrix(y_test, predictions3)\n",
    "cm3"
   ]
  },
  {
   "cell_type": "code",
   "execution_count": 77,
   "id": "022916c5-0d13-4271-86b9-cff9f62edb42",
   "metadata": {},
   "outputs": [
    {
     "data": {
      "text/plain": [
       "array([[ 99,  26,  97],\n",
       "       [145,  35, 130],\n",
       "       [134,  30, 104]], dtype=int64)"
      ]
     },
     "execution_count": 77,
     "metadata": {},
     "output_type": "execute_result"
    }
   ],
   "source": [
    "from sklearn.metrics import confusion_matrix\n",
    "cm4 = confusion_matrix(y_test, predictions4)\n",
    "cm4"
   ]
  },
  {
   "cell_type": "code",
   "execution_count": 81,
   "id": "bf246627-2b86-4b80-8184-ece0477d546d",
   "metadata": {},
   "outputs": [
    {
     "data": {
      "text/plain": [
       "Text(58.222222222222214, 0.5, 'Truth')"
      ]
     },
     "execution_count": 81,
     "metadata": {},
     "output_type": "execute_result"
    },
    {
     "data": {
      "image/png": "[encoded data removed]",
      "text/plain": [
       "<Figure size 700x500 with 2 Axes>"
      ]
     },
     "metadata": {},
     "output_type": "display_data"
    }
   ],
   "source": [
    "%matplotlib inline\n",
    "import matplotlib.pyplot as plt\n",
    "import seaborn as sn\n",
    "plt.figure(figsize=(7,5))\n",
    "sn.heatmap(cm, annot=True)\n",
    "plt.xlabel('Predicted')\n",
    "plt.ylabel('Truth')"
   ]
  },
  {
   "cell_type": "code",
   "execution_count": 82,
   "id": "0e588bdf-c9d0-42c1-9a5d-4ec1ff969cfe",
   "metadata": {},
   "outputs": [
    {
     "name": "stdout",
     "output_type": "stream",
     "text": [
      "              precision    recall  f1-score   support\n",
      "\n",
      "          -1       0.55      0.69      0.61       222\n",
      "           0       0.65      0.54      0.59       310\n",
      "           1       0.69      0.68      0.68       268\n",
      "\n",
      "    accuracy                           0.62       800\n",
      "   macro avg       0.63      0.63      0.63       800\n",
      "weighted avg       0.63      0.62      0.62       800\n",
      "\n"
     ]
    }
   ],
   "source": [
    "from sklearn.metrics import classification_report\n",
    "print(classification_report(y_test, predictions))"
   ]
  },
  {
   "cell_type": "code",
   "execution_count": 83,
   "id": "1913f5e4-0fd3-453a-a702-6a3a74511d49",
   "metadata": {},
   "outputs": [
    {
     "data": {
      "text/plain": [
       "Text(58.222222222222214, 0.5, 'Truth')"
      ]
     },
     "execution_count": 83,
     "metadata": {},
     "output_type": "execute_result"
    },
    {
     "data": {
      "image/png": "[encoded data removed]",
      "text/plain": [
       "<Figure size 700x500 with 2 Axes>"
      ]
     },
     "metadata": {},
     "output_type": "display_data"
    }
   ],
   "source": [
    "%matplotlib inline\n",
    "import matplotlib.pyplot as plt\n",
    "import seaborn as sn\n",
    "plt.figure(figsize=(7,5))\n",
    "sn.heatmap(cm1, annot=True)\n",
    "plt.xlabel('Predicted')\n",
    "plt.ylabel('Truth')"
   ]
  },
  {
   "cell_type": "code",
   "execution_count": 84,
   "id": "e010df9b-0532-4969-b5ba-d530fffb06fd",
   "metadata": {},
   "outputs": [
    {
     "name": "stdout",
     "output_type": "stream",
     "text": [
      "              precision    recall  f1-score   support\n",
      "\n",
      "          -1       0.26      0.45      0.33       222\n",
      "           0       0.38      0.11      0.17       310\n",
      "           1       0.31      0.39      0.35       268\n",
      "\n",
      "    accuracy                           0.30       800\n",
      "   macro avg       0.32      0.32      0.28       800\n",
      "weighted avg       0.33      0.30      0.28       800\n",
      "\n"
     ]
    }
   ],
   "source": [
    "from sklearn.metrics import classification_report\n",
    "print(classification_report(y_test, predictions1))"
   ]
  },
  {
   "cell_type": "code",
   "execution_count": 85,
   "id": "ae5db084-15a6-4984-8128-c6cfee37f398",
   "metadata": {},
   "outputs": [
    {
     "data": {
      "text/plain": [
       "Text(58.222222222222214, 0.5, 'Truth')"
      ]
     },
     "execution_count": 85,
     "metadata": {},
     "output_type": "execute_result"
    },
    {
     "data": {
      "image/png": "[encoded data removed]",
      "text/plain": [
       "<Figure size 700x500 with 2 Axes>"
      ]
     },
     "metadata": {},
     "output_type": "display_data"
    }
   ],
   "source": [
    "%matplotlib inline\n",
    "import matplotlib.pyplot as plt\n",
    "import seaborn as sn\n",
    "plt.figure(figsize=(7,5))\n",
    "sn.heatmap(cm2, annot=True)\n",
    "plt.xlabel('Predicted')\n",
    "plt.ylabel('Truth')"
   ]
  },
  {
   "cell_type": "code",
   "execution_count": 86,
   "id": "05b9b5b4-f499-40c2-aea4-263c9e458e89",
   "metadata": {},
   "outputs": [
    {
     "name": "stdout",
     "output_type": "stream",
     "text": [
      "              precision    recall  f1-score   support\n",
      "\n",
      "          -1       0.57      0.74      0.64       222\n",
      "           0       0.66      0.80      0.72       310\n",
      "           1       0.84      0.42      0.56       268\n",
      "\n",
      "    accuracy                           0.66       800\n",
      "   macro avg       0.69      0.65      0.64       800\n",
      "weighted avg       0.69      0.66      0.64       800\n",
      "\n"
     ]
    }
   ],
   "source": [
    "from sklearn.metrics import classification_report\n",
    "print(classification_report(y_test, predictions2))"
   ]
  },
  {
   "cell_type": "code",
   "execution_count": 87,
   "id": "245d343e-d618-4dea-84a9-676dcd694ed1",
   "metadata": {},
   "outputs": [
    {
     "data": {
      "text/plain": [
       "Text(58.222222222222214, 0.5, 'Truth')"
      ]
     },
     "execution_count": 87,
     "metadata": {},
     "output_type": "execute_result"
    },
    {
     "data": {
      "image/png": "[encoded data removed]",
      "text/plain": [
       "<Figure size 700x500 with 2 Axes>"
      ]
     },
     "metadata": {},
     "output_type": "display_data"
    }
   ],
   "source": [
    "%matplotlib inline\n",
    "import matplotlib.pyplot as plt\n",
    "import seaborn as sn\n",
    "plt.figure(figsize=(7,5))\n",
    "sn.heatmap(cm3, annot=True)\n",
    "plt.xlabel('Predicted')\n",
    "plt.ylabel('Truth')"
   ]
  },
  {
   "cell_type": "code",
   "execution_count": 88,
   "id": "74c7eb53-8ce9-4a16-954c-592a4026548e",
   "metadata": {},
   "outputs": [
    {
     "name": "stdout",
     "output_type": "stream",
     "text": [
      "              precision    recall  f1-score   support\n",
      "\n",
      "          -1       0.53      0.59      0.56       222\n",
      "           0       0.51      0.52      0.51       310\n",
      "           1       0.69      0.62      0.65       268\n",
      "\n",
      "    accuracy                           0.57       800\n",
      "   macro avg       0.58      0.57      0.57       800\n",
      "weighted avg       0.58      0.57      0.57       800\n",
      "\n"
     ]
    }
   ],
   "source": [
    "from sklearn.metrics import classification_report\n",
    "print(classification_report(y_test, predictions3))"
   ]
  },
  {
   "cell_type": "code",
   "execution_count": 89,
   "id": "3e294f74-c0a9-494f-b2f8-7df1489f2d09",
   "metadata": {},
   "outputs": [
    {
     "data": {
      "text/plain": [
       "Text(58.222222222222214, 0.5, 'Truth')"
      ]
     },
     "execution_count": 89,
     "metadata": {},
     "output_type": "execute_result"
    },
    {
     "data": {
      "image/png": "[encoded data removed]",
      "text/plain": [
       "<Figure size 700x500 with 2 Axes>"
      ]
     },
     "metadata": {},
     "output_type": "display_data"
    }
   ],
   "source": [
    "%matplotlib inline\n",
    "import matplotlib.pyplot as plt\n",
    "import seaborn as sn\n",
    "plt.figure(figsize=(7,5))\n",
    "sn.heatmap(cm4, annot=True)\n",
    "plt.xlabel('Predicted')\n",
    "plt.ylabel('Truth')"
   ]
  },
  {
   "cell_type": "code",
   "execution_count": 90,
   "id": "e7766731-da30-424f-b168-7c4bc15ef063",
   "metadata": {},
   "outputs": [
    {
     "name": "stdout",
     "output_type": "stream",
     "text": [
      "              precision    recall  f1-score   support\n",
      "\n",
      "          -1       0.26      0.45      0.33       222\n",
      "           0       0.38      0.11      0.17       310\n",
      "           1       0.31      0.39      0.35       268\n",
      "\n",
      "    accuracy                           0.30       800\n",
      "   macro avg       0.32      0.32      0.28       800\n",
      "weighted avg       0.33      0.30      0.28       800\n",
      "\n"
     ]
    }
   ],
   "source": [
    "from sklearn.metrics import classification_report\n",
    "print(classification_report(y_test, predictions4))"
   ]
  },
  {
   "cell_type": "code",
   "execution_count": 91,
   "id": "761c4bd5-1c79-449f-a47b-70f96b4be3dd",
   "metadata": {},
   "outputs": [
    {
     "data": {
      "image/png": "[encoded data removed]",
      "text/plain": [
       "<Figure size 800x600 with 1 Axes>"
      ]
     },
     "metadata": {},
     "output_type": "display_data"
    }
   ],
   "source": [
    "import matplotlib.pyplot as plt\n",
    "\n",
    "# Assuming you have calculated accuracy scores for different KNN variants\n",
    "accuracy_scores = [accuracy, accuracy1, accuracy4, accuracy2, accuracy3]\n",
    "variant_labels = ['Simple KNN','Weighted KNN', 'DW-KNN', 'LM-KNN', 'BallTreeKNN']\n",
    "\n",
    "# Plotting the bar graph\n",
    "plt.figure(figsize=(8, 6))\n",
    "plt.bar(variant_labels, accuracy_scores, color='skyblue')\n",
    "plt.xlabel('KNN Variants')\n",
    "plt.ylabel('Accuracy')\n",
    "plt.title('Accuracy of Different KNN Variants')\n",
    "plt.ylim(0, 1)  # Limit y-axis to range from 0 to 1 for accuracy\n",
    "plt.show()\n"
   ]
  },
  {
   "cell_type": "code",
   "execution_count": null,
   "id": "377f2b2f-8df0-4154-8b98-a65d32490335",
   "metadata": {},
   "outputs": [],
   "source": []
  },
  {
   "cell_type": "code",
   "execution_count": null,
   "id": "b18c87b6-1589-449c-b486-a64d3c3da35e",
   "metadata": {},
   "outputs": [],
   "source": []
  }
 ],
 "metadata": {
  "kernelspec": {
   "display_name": "Python 3 (ipykernel)",
   "language": "python",
   "name": "python3"
  },
  "language_info": {
   "codemirror_mode": {
    "name": "ipython",
    "version": 3
   },
   "file_extension": ".py",
   "mimetype": "text/x-python",
   "name": "python",
   "nbconvert_exporter": "python",
   "pygments_lexer": "ipython3",
   "version": "3.10.2"
  }
 },
 "nbformat": 4,
 "nbformat_minor": 5
}
